{
  "nbformat": 4,
  "nbformat_minor": 0,
  "metadata": {
    "colab": {
      "name": "Basic Blockchain in Python.ipynb",
      "provenance": [],
      "authorship_tag": "ABX9TyNXP39riATSJzy7p30uF+4w"
    },
    "kernelspec": {
      "name": "python3",
      "display_name": "Python 3"
    },
    "language_info": {
      "name": "python"
    }
  },
  "cells": [
    {
      "cell_type": "markdown",
      "source": [
        "# **Basic Blockchain in Python**"
      ],
      "metadata": {
        "id": "RC5VNIoSZM9q"
      }
    },
    {
      "cell_type": "code",
      "execution_count": 1,
      "metadata": {
        "id": "5sIWIU6IZIEo"
      },
      "outputs": [],
      "source": [
        "from hashlib import sha256\n",
        "import json\n",
        "import time"
      ]
    },
    {
      "cell_type": "code",
      "source": [
        "# Example:\n",
        "tx_1 = {\n",
        "   \"addr_from\": \"3J98t1WpEZ73CNmQviecrnyiWrnqRhWNLy\",\n",
        "   \"addr_to\": \"1BvBMSEYstWetqTFn5Au4m4GFg7xJaNVN2\",   \n",
        "   \"amount\": 99.00\n",
        "}"
      ],
      "metadata": {
        "id": "MWfJkrd6cXsn"
      },
      "execution_count": 2,
      "outputs": []
    },
    {
      "cell_type": "markdown",
      "source": [
        "## Block Class"
      ],
      "metadata": {
        "id": "Cy_1LPPiZjeb"
      }
    },
    {
      "cell_type": "code",
      "source": [
        "class Block:      \n",
        "    def __init__(self, index, transactions, timestamp, previous_hash, nonce=0):\n",
        "        self.index = index\n",
        "        self.transactions = transactions\n",
        "        self.timestamp = timestamp\n",
        "        self.previous_hash = previous_hash\n",
        "        self.nonce = nonce"
      ],
      "metadata": {
        "id": "oJIQvQciZjLR"
      },
      "execution_count": 3,
      "outputs": []
    },
    {
      "cell_type": "code",
      "source": [
        "def compute_hash(self) -> str:\n",
        "    block_string = json.dumps(self.__dict__, sort_keys=True)\n",
        "    return hashlib.sha256(block_string.encode()).hexdigest()"
      ],
      "metadata": {
        "id": "jeWi_yticBZI"
      },
      "execution_count": 4,
      "outputs": []
    },
    {
      "cell_type": "markdown",
      "source": [
        "## BlockChain Class"
      ],
      "metadata": {
        "id": "HwyTP-4Ic79Y"
      }
    },
    {
      "cell_type": "code",
      "source": [
        "class Blockchain(): \n",
        "    \n",
        "    def __init__(self):\n",
        "        self.unconfirmed_transactions:list = []\n",
        "        self.chain:list = []    \n",
        "        self.difficulty:int = 2\n",
        "        self.create_genesis_block()    \n",
        "        \n",
        "      \n",
        "    def create_genesis_block(self):\n",
        "        genesis_block = Block(0, [], time.time(), \"0\")\n",
        "        genesis_block.hash = genesis_block.compute_hash()\n",
        "        self.chain.append(genesis_block) \n",
        "        "
      ],
      "metadata": {
        "id": "Oq7EMrzXcMnA"
      },
      "execution_count": 5,
      "outputs": []
    },
    {
      "cell_type": "code",
      "source": [
        "def get_last_block(self):\n",
        "    return self.chain[-1]"
      ],
      "metadata": {
        "id": "ZGgnw_FGelhR"
      },
      "execution_count": 6,
      "outputs": []
    },
    {
      "cell_type": "code",
      "source": [
        "def proof_of_work(self, block:Block) -> str:\n",
        "    computed_hash = Block.computed_hash()\n",
        "    while not computed_hash.startswith('0' * self.difficulty):\n",
        "        block.nonce += 1\n",
        "        computed_hash = block.compute_hash()\n",
        "    return computed_hash "
      ],
      "metadata": {
        "id": "MImrcDBZevzH"
      },
      "execution_count": 7,
      "outputs": []
    },
    {
      "cell_type": "code",
      "source": [
        "def is_valid_proof(self, block:Block, block_hash:str) -> bool:\n",
        "    return (block_hash.startswith('0' * self.difficulty) and \n",
        "            block_hash == block.compute_hash())"
      ],
      "metadata": {
        "id": "SkX4XmDGe4BI"
      },
      "execution_count": 8,
      "outputs": []
    },
    {
      "cell_type": "code",
      "source": [
        "def add_block(self, block:Block, proof:str) -> bool:\n",
        "    last_block = self.get_last_block()\n",
        "        \n",
        "    if last_block.hash != block.previous_hash:\n",
        "            return False\n",
        "    if not self.is_valid_proof(block, proof):\n",
        "            return False\n",
        "        \n",
        "    block.hash = proof\n",
        "    self.chain.append(block)\n",
        "        \n",
        "    return True"
      ],
      "metadata": {
        "id": "m_w8YWS_fex_"
      },
      "execution_count": 9,
      "outputs": []
    },
    {
      "cell_type": "code",
      "source": [
        "def add_new_transaction(self, transaction:dict) -> None:\n",
        "    self.unconfirmed_transactions.append(transaction)"
      ],
      "metadata": {
        "id": "_6LayVhvfZLw"
      },
      "execution_count": 10,
      "outputs": []
    },
    {
      "cell_type": "code",
      "source": [
        "def mine(self) -> int:\n",
        "    \n",
        "        if len (self.unconfirmed_transactions)<1:\n",
        "            return -1\n",
        "        last_block = self.get_last_block()\n",
        "        self.unconfirmed_transactions.append(tx_1)\n",
        "        \n",
        "        new_block = Block(index=last_block.index + 1,\n",
        "                          transactions=self.unconfirmed_transactions,\n",
        "                          timestamp=time.time(),\n",
        "                          previous_hash=last_block.hash)\n",
        "        \n",
        "        proof = self.proof_of_work(new_block)\n",
        "        \n",
        "        if not self.add_block(new_block, proof):\n",
        "            return -1\n",
        "        \n",
        "        self.unconfirmed_transactions = []\n",
        "        return new_block.index"
      ],
      "metadata": {
        "id": "mAhBCA6efoiw"
      },
      "execution_count": 11,
      "outputs": []
    }
  ]
}