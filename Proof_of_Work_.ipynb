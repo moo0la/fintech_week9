{
  "cells": [
    {
      "cell_type": "markdown",
      "id": "ab8ffff4-c8c3-49e5-8a8a-f571920189b3",
      "metadata": {
        "id": "ab8ffff4-c8c3-49e5-8a8a-f571920189b3"
      },
      "source": [
        "# Proof of Work (PoW)\n"
      ]
    },
    {
      "cell_type": "code",
      "execution_count": 1,
      "id": "f8029a96-77d0-4894-9c83-ebd994c240b6",
      "metadata": {
        "id": "f8029a96-77d0-4894-9c83-ebd994c240b6"
      },
      "outputs": [],
      "source": [
        "import hashlib # imports library with SHA-256 hashing algo\n",
        "import datetime # imports library to track time"
      ]
    },
    {
      "cell_type": "code",
      "execution_count": 2,
      "id": "e3d498b5-ec36-4649-8354-29229a7f1f43",
      "metadata": {
        "id": "e3d498b5-ec36-4649-8354-29229a7f1f43",
        "outputId": "25e33186-a88c-45a0-f1f2-69e6c080202a",
        "colab": {
          "base_uri": "https://localhost:8080/"
        }
      },
      "outputs": [
        {
          "output_type": "stream",
          "name": "stdout",
          "text": [
            "The hash is: 0000000399c6aea5ad0c709a9bc331a3ed6494702bd1d129d8c817a0257a1462\n",
            "The nonce is: 665783\n",
            "Time elapsed: 0:00:00.980953\n"
          ]
        }
      ],
      "source": [
        "\n",
        "t1 = datetime.datetime.now() # start time\n",
        "nonce = 1 # Starts the nonce at 1\n",
        "solution = False\n",
        "while solution == False: # loop until true\n",
        "    ourhash = hashlib.sha256(str(nonce).encode()).hexdigest() # inputs nonce into hash function\n",
        "    if ourhash[:7] == '0000000': # look for hash with 7 proceeding zeros\n",
        "        solution =True # those who find the solution will have 'proved' they put in 'work'\n",
        "    nonce +=1 # increase nonce by 1 and try again\n",
        "t2 = datetime.datetime.now() # end time\n",
        "duration = t2 - t1 # time elapsed\n",
        "print (\"The hash is:\",ourhash)\n",
        "print (\"The nonce is:\",nonce)    \n",
        "print (\"Time elapsed:\",duration)"
      ]
    },
    {
      "cell_type": "markdown",
      "id": "ee95b209-c162-4c7d-8c71-568adf9712f3",
      "metadata": {
        "id": "ee95b209-c162-4c7d-8c71-568adf9712f3"
      },
      "source": [
        "# if ourhash[:8] == '00000000':"
      ]
    },
    {
      "cell_type": "code",
      "execution_count": 3,
      "id": "f188cd40-65d8-4352-abef-1bb3bdb956f1",
      "metadata": {
        "id": "f188cd40-65d8-4352-abef-1bb3bdb956f1",
        "outputId": "32500eac-960b-4320-a220-143369163177",
        "colab": {
          "base_uri": "https://localhost:8080/"
        }
      },
      "outputs": [
        {
          "output_type": "stream",
          "name": "stdout",
          "text": [
            "The hash is: 00000000690ed426ccf17803ebe2bd0884bcd58a1bb5e7477ead3645f356e7a9\n",
            "The nonce is: 426479725\n",
            "Time elapsed: 0:10:29.839248\n"
          ]
        }
      ],
      "source": [
        "\n",
        "\n",
        "t1 = datetime.datetime.now() # start time\n",
        "nonce = 1 # Starts the nonce at 1\n",
        "solution = False\n",
        "while solution == False: # loop until true\n",
        "    ourhash = hashlib.sha256(str(nonce).encode()).hexdigest() # inputs nonce into hash function\n",
        "    if ourhash[:8] == '00000000': # look for hash with 8 proceeding zeros\n",
        "        solution =True # those who find the solution will have 'proved' they put in 'work'\n",
        "    nonce +=1 # increase nonce by 1 and try again\n",
        "t2 = datetime.datetime.now() # end time\n",
        "duration = t2 - t1 # time elapsed\n",
        "print (\"The hash is:\",ourhash)\n",
        "print (\"The nonce is:\",nonce)    \n",
        "print (\"Time elapsed:\",duration)"
      ]
    },
    {
      "cell_type": "code",
      "execution_count": 3,
      "id": "9dad6498-75ea-4573-966a-ed89e39055d3",
      "metadata": {
        "id": "9dad6498-75ea-4573-966a-ed89e39055d3"
      },
      "outputs": [],
      "source": [
        ""
      ]
    }
  ],
  "metadata": {
    "kernelspec": {
      "display_name": "Python 3",
      "language": "python",
      "name": "python3"
    },
    "language_info": {
      "codemirror_mode": {
        "name": "ipython",
        "version": 3
      },
      "file_extension": ".py",
      "mimetype": "text/x-python",
      "name": "python",
      "nbconvert_exporter": "python",
      "pygments_lexer": "ipython3",
      "version": "3.8.8"
    },
    "colab": {
      "name": " Proof of Work .ipynb",
      "provenance": []
    }
  },
  "nbformat": 4,
  "nbformat_minor": 5
}